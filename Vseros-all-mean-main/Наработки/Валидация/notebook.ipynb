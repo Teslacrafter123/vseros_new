{
 "cells": [
  {
   "cell_type": "code",
   "execution_count": 91,
   "metadata": {},
   "outputs": [],
   "source": [
    "import pandas as pd\n",
    "import numpy as np\n",
    "import seaborn as sns\n",
    "from sklearn.ensemble import RandomForestClassifier\n",
    "from sklearn.model_selection import KFold, StratifiedKFold\n",
    "from sklearn.metrics import f1_score\n",
    "import warnings\n",
    "\n",
    "warnings.simplefilter('ignore')"
   ]
  },
  {
   "cell_type": "code",
   "execution_count": 50,
   "metadata": {},
   "outputs": [],
   "source": [
    "df = sns.load_dataset('penguins')\n",
    "df = df.dropna(ignore_index=True)"
   ]
  },
  {
   "cell_type": "code",
   "execution_count": 51,
   "metadata": {},
   "outputs": [],
   "source": [
    "X = df.drop(['species'], axis=1)\n",
    "y = df['species']\n",
    "X['Male'] = X['sex'].replace('Female', 0).replace('Male', 1)\n",
    "X.drop(['sex'], axis=1, inplace=True)\n",
    "X = pd.get_dummies(X)\n",
    "X = X.replace(True, 1).replace(False, 0)"
   ]
  },
  {
   "cell_type": "markdown",
   "metadata": {},
   "source": [
    "Стоит иногда смотреть на отклонение метрик, вдруг модель рандомная"
   ]
  },
  {
   "cell_type": "code",
   "execution_count": 60,
   "metadata": {},
   "outputs": [
    {
     "name": "stdout",
     "output_type": "stream",
     "text": [
      "0: 0.9850746268656716\n",
      "1: 0.9850746268656716\n",
      "2: 1.0\n",
      "3: 0.9545454545454546\n",
      "4: 0.9848484848484849\n",
      "Средняя метрика -- 0.982 Отклонение метрик -- 0.0149\n"
     ]
    }
   ],
   "source": [
    "clfs = []\n",
    "scores = []\n",
    "kf = StratifiedKFold(n_splits=5, shuffle=True, random_state=7575)\n",
    "for i, (train_ind, test_ind) in enumerate(kf.split(X, y)):\n",
    "    X_train, X_test = X.iloc[train_ind], X.iloc[test_ind]\n",
    "    y_train, y_test = y.iloc[train_ind], y.iloc[test_ind]\n",
    "    clf = RandomForestClassifier(\n",
    "        n_estimators=100,\n",
    "        min_samples_leaf=4,\n",
    "        n_jobs=-1,\n",
    "        max_features=0.60,\n",
    "        # class_weight = 'balanced',\n",
    "        random_state=7575,\n",
    "        max_depth=6,\n",
    "    )\n",
    "    clf.fit(X_train, y_train)\n",
    "    clfs.append(clf)\n",
    "    score = f1_score(y_test, clf.predict(X_test), average='micro')\n",
    "    scores.append(score)\n",
    "    print(f'{i}: {score}')\n",
    "print(\n",
    "    \"Средняя метрика --\", np.mean(scores, dtype=\"float16\"), \"Отклонение метрик --\", np.std(scores).round(4)\n",
    ")"
   ]
  },
  {
   "cell_type": "markdown",
   "metadata": {},
   "source": [
    " Какие валидации полезно попробовать? <br>\n",
    "StratifiedGroupKFold - он же, но еще и стратифицированный (сбалансированный)<br>\n",
    "RepeatedStratifiedKFold - а тут стратифицированный, но еще дополнительно с повторениями<br>\n",
    "А где взять RepeatedStratifiedGroupKFold? :)<br>\n",
    "Еще несколько<br>\n",
    "Shuffle Split - сначала перемешивает все сэмплы, потом разделяет на заданное количество фолдов.<br>\n",
    "Time Series Split - используется, когда данные упорядочены по времени.<br>\n",
    "<br>\n",
    "Leave One Out (LOO) - удаляет только 1 сэмпл данных из датасета для каждого фолда (создает все возможные наборы для обучения).<br>\n",
    "Leave One Group Out - то же самое, но каждый раз удаляет 1 группу сэмплов.<br>\n",
    "Leave P Out - удаляет P сэмплов из датасета и создает все возможные наборы, значения в наборах могут повторяться.<br>\n",
    "🍕 Когда какую выбрать?<br>\n",
    "Есть временная зависимость? ➡️ TimeSeriesSplit<br>\n",
    "Мало данных и быстро учится? ➡️ LeaveOneOut<br>\n",
    "Много данных, но быстро учится? ➡️ KFold<br>\n",
    "Очень много данных и долго учится? ➡️ старый добрый train_test_split()<br>\n",
    "Есть дисбаланс классов? ➡️ Любой итератор с приставкой Stratified<br>\n",
    "Есть группы и нельзя допусть их одновременного присутствия в train и test? ➡️ Любой итератор с приставкой Group<br>"
   ]
  },
  {
   "cell_type": "code",
   "execution_count": 62,
   "metadata": {},
   "outputs": [],
   "source": [
    "best_model = clfs[np.argmax(scores)]"
   ]
  },
  {
   "cell_type": "code",
   "execution_count": 89,
   "metadata": {},
   "outputs": [],
   "source": [
    "def plot_imp(imp, tab):\n",
    "    data = sorted([[imp[i], tab[i]] for i in range(len(imp))], key=lambda x: x[0], reverse=True)\n",
    "    imp = [i[0] for i in data]\n",
    "    tab = [i[1] for i in data]\n",
    "    sns.barplot(x=imp, y=tab)"
   ]
  },
  {
   "cell_type": "code",
   "execution_count": 92,
   "metadata": {},
   "outputs": [
    {
     "data": {
      "image/png": "[encoded data removed]",
      "text/plain": [
       "<Figure size 640x480 with 1 Axes>"
      ]
     },
     "metadata": {},
     "output_type": "display_data"
    }
   ],
   "source": [
    "imp = best_model.feature_importances_\n",
    "tab = X.columns\n",
    "plot_imp(imp, tab)"
   ]
  },
  {
   "cell_type": "code",
   "execution_count": null,
   "metadata": {},
   "outputs": [],
   "source": []
  }
 ],
 "metadata": {
  "kernelspec": {
   "display_name": "Python 3",
   "language": "python",
   "name": "python3"
  },
  "language_info": {
   "codemirror_mode": {
    "name": "ipython",
    "version": 3
   },
   "file_extension": ".py",
   "mimetype": "text/x-python",
   "name": "python",
   "nbconvert_exporter": "python",
   "pygments_lexer": "ipython3",
   "version": "3.11.6"
  }
 },
 "nbformat": 4,
 "nbformat_minor": 2
}
